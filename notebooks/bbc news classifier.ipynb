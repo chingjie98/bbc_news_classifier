{
 "cells": [
  {
   "cell_type": "markdown",
   "id": "2d1f2b89-2060-4ef6-b480-a8fc5ed4e048",
   "metadata": {},
   "source": [
    "#### import relevant packages"
   ]
  },
  {
   "cell_type": "code",
   "execution_count": 1,
   "id": "66a724a2-2d8e-4072-bfcc-8ecfc6f8325e",
   "metadata": {},
   "outputs": [],
   "source": [
    "import pandas as pd\n",
    "import numpy as np\n",
    "from sklearn.feature_extraction.text import CountVectorizer\n",
    "from sklearn.naive_bayes import MultinomialNB\n",
    "from sklearn.model_selection import train_test_split"
   ]
  },
  {
   "cell_type": "code",
   "execution_count": 2,
   "id": "96b59aa4-56ab-4425-aa34-d16a78a026c1",
   "metadata": {},
   "outputs": [],
   "source": [
    "import nltk\n",
    "from nltk import word_tokenize\n",
    "from nltk.stem import WordNetLemmatizer, PorterStemmer\n",
    "from nltk.corpus import wordnet"
   ]
  },
  {
   "cell_type": "code",
   "execution_count": 3,
   "id": "90bbbeaa-a235-4042-ba0f-fb5746072d3e",
   "metadata": {},
   "outputs": [],
   "source": [
    "# nltk.download(\"wordnet\")\n",
    "# nltk.download(\"punkt\")\n",
    "# nltk.download(\"averaged_perceptron_tagger\")"
   ]
  },
  {
   "cell_type": "markdown",
   "id": "0678733d-5476-45aa-8247-0cc4639f1c88",
   "metadata": {},
   "source": [
    "#### loading in news dataset"
   ]
  },
  {
   "cell_type": "code",
   "execution_count": 4,
   "id": "6f73990b-41c0-4410-b522-25ccefa15441",
   "metadata": {},
   "outputs": [],
   "source": [
    "import os \n",
    "\n",
    "base_dir = \"../data/raw\"\n",
    "\n",
    "texts = []\n",
    "topics = []\n",
    "\n",
    "for folder_name in os.listdir(base_dir):\n",
    "    folder_path = os.path.join(base_dir, folder_name)\n",
    "    \n",
    "    if not os.path.isdir(folder_path):\n",
    "        continue\n",
    "\n",
    "    for file_name in os.listdir(folder_path):             # business, politics, entertainment etc..\n",
    "        file_path = os.path.join(folder_path, file_name)\n",
    "        \n",
    "        if not file_name.endswith(\".txt\"):\n",
    "            continue\n",
    "\n",
    "        with open(file_path, 'r', encoding='utf-8', errors = 'ignore') as file:\n",
    "            texts.append(file.read())  \n",
    "            topics.append(folder_name)  "
   ]
  },
  {
   "cell_type": "code",
   "execution_count": 5,
   "id": "b2149d37-8c0d-4678-836e-01b0117f22d5",
   "metadata": {},
   "outputs": [
    {
     "data": {
      "text/html": [
       "<div>\n",
       "<style scoped>\n",
       "    .dataframe tbody tr th:only-of-type {\n",
       "        vertical-align: middle;\n",
       "    }\n",
       "\n",
       "    .dataframe tbody tr th {\n",
       "        vertical-align: top;\n",
       "    }\n",
       "\n",
       "    .dataframe thead th {\n",
       "        text-align: right;\n",
       "    }\n",
       "</style>\n",
       "<table border=\"1\" class=\"dataframe\">\n",
       "  <thead>\n",
       "    <tr style=\"text-align: right;\">\n",
       "      <th></th>\n",
       "      <th>text</th>\n",
       "      <th>topic</th>\n",
       "    </tr>\n",
       "  </thead>\n",
       "  <tbody>\n",
       "    <tr>\n",
       "      <th>0</th>\n",
       "      <td>Musicians to tackle US red tape\\n\\nMusicians' ...</td>\n",
       "      <td>entertainment</td>\n",
       "    </tr>\n",
       "    <tr>\n",
       "      <th>1</th>\n",
       "      <td>U2's desire to be number one\\n\\nU2, who have w...</td>\n",
       "      <td>entertainment</td>\n",
       "    </tr>\n",
       "    <tr>\n",
       "      <th>2</th>\n",
       "      <td>Rocker Doherty in on-stage fight\\n\\nRock singe...</td>\n",
       "      <td>entertainment</td>\n",
       "    </tr>\n",
       "    <tr>\n",
       "      <th>3</th>\n",
       "      <td>Snicket tops US box office chart\\n\\nThe film a...</td>\n",
       "      <td>entertainment</td>\n",
       "    </tr>\n",
       "    <tr>\n",
       "      <th>4</th>\n",
       "      <td>Ocean's Twelve raids box office\\n\\nOcean's Twe...</td>\n",
       "      <td>entertainment</td>\n",
       "    </tr>\n",
       "  </tbody>\n",
       "</table>\n",
       "</div>"
      ],
      "text/plain": [
       "                                                text          topic\n",
       "0  Musicians to tackle US red tape\\n\\nMusicians' ...  entertainment\n",
       "1  U2's desire to be number one\\n\\nU2, who have w...  entertainment\n",
       "2  Rocker Doherty in on-stage fight\\n\\nRock singe...  entertainment\n",
       "3  Snicket tops US box office chart\\n\\nThe film a...  entertainment\n",
       "4  Ocean's Twelve raids box office\\n\\nOcean's Twe...  entertainment"
      ]
     },
     "execution_count": 5,
     "metadata": {},
     "output_type": "execute_result"
    }
   ],
   "source": [
    "df = pd.DataFrame({'text': texts, 'topic': topics})\n",
    "\n",
    "df.head()"
   ]
  }
 ],
 "metadata": {
  "kernelspec": {
   "display_name": "Python 3 (ipykernel)",
   "language": "python",
   "name": "python3"
  },
  "language_info": {
   "codemirror_mode": {
    "name": "ipython",
    "version": 3
   },
   "file_extension": ".py",
   "mimetype": "text/x-python",
   "name": "python",
   "nbconvert_exporter": "python",
   "pygments_lexer": "ipython3",
   "version": "3.11.6"
  }
 },
 "nbformat": 4,
 "nbformat_minor": 5
}
