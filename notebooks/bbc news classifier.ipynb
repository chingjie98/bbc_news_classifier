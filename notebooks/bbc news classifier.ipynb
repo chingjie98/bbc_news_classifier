{
 "cells": [
  {
   "cell_type": "markdown",
   "id": "2d1f2b89-2060-4ef6-b480-a8fc5ed4e048",
   "metadata": {},
   "source": [
    "#### import relevant packages"
   ]
  },
  {
   "cell_type": "code",
   "execution_count": 1,
   "id": "66a724a2-2d8e-4072-bfcc-8ecfc6f8325e",
   "metadata": {},
   "outputs": [],
   "source": [
    "import pandas as pd\n",
    "import numpy as np\n",
    "from sklearn.feature_extraction.text import CountVectorizer\n",
    "from sklearn.naive_bayes import MultinomialNB\n",
    "from sklearn.model_selection import train_test_split"
   ]
  },
  {
   "cell_type": "code",
   "execution_count": 2,
   "id": "96b59aa4-56ab-4425-aa34-d16a78a026c1",
   "metadata": {},
   "outputs": [],
   "source": [
    "import nltk\n",
    "from nltk import word_tokenize\n",
    "from nltk.stem import WordNetLemmatizer, PorterStemmer\n",
    "from nltk.corpus import wordnet"
   ]
  },
  {
   "cell_type": "code",
   "execution_count": 3,
   "id": "90bbbeaa-a235-4042-ba0f-fb5746072d3e",
   "metadata": {},
   "outputs": [],
   "source": [
    "# nltk.download(\"wordnet\")\n",
    "# nltk.download(\"punkt\")\n",
    "# nltk.download(\"averaged_perceptron_tagger\")"
   ]
  },
  {
   "cell_type": "markdown",
   "id": "0678733d-5476-45aa-8247-0cc4639f1c88",
   "metadata": {},
   "source": [
    "#### loading in news dataset"
   ]
  },
  {
   "cell_type": "code",
   "execution_count": 4,
   "id": "6f73990b-41c0-4410-b522-25ccefa15441",
   "metadata": {},
   "outputs": [],
   "source": [
    "import os \n",
    "\n",
    "base_dir = \"../data/raw\"\n",
    "\n",
    "texts = []\n",
    "topics = []\n",
    "\n",
    "for folder_name in os.listdir(base_dir):\n",
    "    folder_path = os.path.join(base_dir, folder_name)\n",
    "    \n",
    "    if not os.path.isdir(folder_path):\n",
    "        continue\n",
    "\n",
    "    for file_name in os.listdir(folder_path):             # business, politics, entertainment etc..\n",
    "        file_path = os.path.join(folder_path, file_name)\n",
    "        \n",
    "        if not file_name.endswith(\".txt\"):\n",
    "            continue\n",
    "\n",
    "        with open(file_path, 'r', encoding='utf-8', errors = 'ignore') as file:\n",
    "            texts.append(file.read())  \n",
    "            topics.append(folder_name)  "
   ]
  },
  {
   "cell_type": "code",
   "execution_count": 5,
   "id": "b2149d37-8c0d-4678-836e-01b0117f22d5",
   "metadata": {},
   "outputs": [
    {
     "data": {
      "text/html": [
       "<div>\n",
       "<style scoped>\n",
       "    .dataframe tbody tr th:only-of-type {\n",
       "        vertical-align: middle;\n",
       "    }\n",
       "\n",
       "    .dataframe tbody tr th {\n",
       "        vertical-align: top;\n",
       "    }\n",
       "\n",
       "    .dataframe thead th {\n",
       "        text-align: right;\n",
       "    }\n",
       "</style>\n",
       "<table border=\"1\" class=\"dataframe\">\n",
       "  <thead>\n",
       "    <tr style=\"text-align: right;\">\n",
       "      <th></th>\n",
       "      <th>text</th>\n",
       "      <th>topic</th>\n",
       "    </tr>\n",
       "  </thead>\n",
       "  <tbody>\n",
       "    <tr>\n",
       "      <th>0</th>\n",
       "      <td>Musicians to tackle US red tape\\n\\nMusicians' ...</td>\n",
       "      <td>entertainment</td>\n",
       "    </tr>\n",
       "    <tr>\n",
       "      <th>1</th>\n",
       "      <td>U2's desire to be number one\\n\\nU2, who have w...</td>\n",
       "      <td>entertainment</td>\n",
       "    </tr>\n",
       "    <tr>\n",
       "      <th>2</th>\n",
       "      <td>Rocker Doherty in on-stage fight\\n\\nRock singe...</td>\n",
       "      <td>entertainment</td>\n",
       "    </tr>\n",
       "    <tr>\n",
       "      <th>3</th>\n",
       "      <td>Snicket tops US box office chart\\n\\nThe film a...</td>\n",
       "      <td>entertainment</td>\n",
       "    </tr>\n",
       "    <tr>\n",
       "      <th>4</th>\n",
       "      <td>Ocean's Twelve raids box office\\n\\nOcean's Twe...</td>\n",
       "      <td>entertainment</td>\n",
       "    </tr>\n",
       "  </tbody>\n",
       "</table>\n",
       "</div>"
      ],
      "text/plain": [
       "                                                text          topic\n",
       "0  Musicians to tackle US red tape\\n\\nMusicians' ...  entertainment\n",
       "1  U2's desire to be number one\\n\\nU2, who have w...  entertainment\n",
       "2  Rocker Doherty in on-stage fight\\n\\nRock singe...  entertainment\n",
       "3  Snicket tops US box office chart\\n\\nThe film a...  entertainment\n",
       "4  Ocean's Twelve raids box office\\n\\nOcean's Twe...  entertainment"
      ]
     },
     "execution_count": 5,
     "metadata": {},
     "output_type": "execute_result"
    }
   ],
   "source": [
    "df = pd.DataFrame({'text': texts, 'topic': topics})\n",
    "\n",
    "df.head()"
   ]
  },
  {
   "cell_type": "code",
   "execution_count": 9,
   "id": "ed99623c-a222-490f-b2ec-e9aea51e26a2",
   "metadata": {},
   "outputs": [],
   "source": [
    "X = df['text']\n",
    "y = df['topic']"
   ]
  },
  {
   "cell_type": "code",
   "execution_count": 13,
   "id": "23c39120-ed40-4673-9f1e-cfe8d3e685e9",
   "metadata": {},
   "outputs": [
    {
     "data": {
      "text/plain": [
       "<Axes: >"
      ]
     },
     "execution_count": 13,
     "metadata": {},
     "output_type": "execute_result"
    },
    {
     "data": {
      "image/png": "[encoded data removed]",
      "text/plain": [
       "<Figure size 800x400 with 1 Axes>"
      ]
     },
     "metadata": {},
     "output_type": "display_data"
    }
   ],
   "source": [
    "y.hist(figsize = (8,4))"
   ]
  },
  {
   "cell_type": "code",
   "execution_count": 22,
   "id": "ad408ee4-1905-41b9-b72a-564279692122",
   "metadata": {},
   "outputs": [],
   "source": [
    "X_train, X_test, y_train, y_test = train_test_split(X, y, test_size = 0.25, random_state = 42)"
   ]
  },
  {
   "cell_type": "code",
   "execution_count": 23,
   "id": "c8afed1a-c2f6-41f8-b95e-f40391e45fbb",
   "metadata": {},
   "outputs": [],
   "source": [
    "vectorizer = CountVectorizer()\n",
    "\n",
    "X_train = vectorizer.fit_transform(X_train)\n",
    "X_test = vectorizer.transform(X_test)"
   ]
  },
  {
   "cell_type": "code",
   "execution_count": 28,
   "id": "37f43cf5-bd6c-444a-af16-365349140148",
   "metadata": {},
   "outputs": [
    {
     "data": {
      "text/plain": [
       "<Compressed Sparse Row sparse matrix of dtype 'int64'\n",
       "\twith 335821 stored elements and shape (1668, 26079)>"
      ]
     },
     "execution_count": 28,
     "metadata": {},
     "output_type": "execute_result"
    }
   ],
   "source": [
    "\"\"\"\n",
    "matrix of size (no. of data_samples) X (vocab_size).\n",
    "N x V\n",
    "\n",
    "it's sparse matrix representation because it is more efficient, \n",
    "especially when most of the values in the matrix are 0s.\n",
    "\"\"\"\n",
    "\n",
    "X_train   "
   ]
  },
  {
   "cell_type": "code",
   "execution_count": 34,
   "id": "bbe46ab6-97d6-4e37-aca6-275becf78d21",
   "metadata": {},
   "outputs": [
    {
     "data": {
      "text/plain": [
       "np.float64(0.007720063452286601)"
      ]
     },
     "execution_count": 34,
     "metadata": {},
     "output_type": "execute_result"
    }
   ],
   "source": [
    "\"\"\"\n",
    "< 1% of the matrix contains non-zero values, \n",
    "hence this justify the use of sparse matrix representation.\n",
    "\"\"\"\n",
    "\n",
    "(X_train != 0).sum() / np.prod(X_train.shape)  "
   ]
  },
  {
   "cell_type": "code",
   "execution_count": 36,
   "id": "2509946a-b274-4207-9909-0fd48fcef7d8",
   "metadata": {},
   "outputs": [
    {
     "name": "stdout",
     "output_type": "stream",
     "text": [
      "train_score 0.9934052757793765\n",
      "test_score 0.9748653500897666\n"
     ]
    }
   ],
   "source": [
    "model = MultinomialNB()\n",
    "model.fit(X_train, y_train)\n",
    "\n",
    "print(\"train_score\", model.score(X_train, y_train))\n",
    "print(\"test_score\", model.score(X_test, y_test))"
   ]
  },
  {
   "cell_type": "code",
   "execution_count": null,
   "id": "7064a965-3360-49d4-94c0-6bcade2c994f",
   "metadata": {},
   "outputs": [],
   "source": []
  },
  {
   "cell_type": "markdown",
   "id": "d8085d95-e657-4647-b13d-ccfe99f80236",
   "metadata": {},
   "source": [
    "#### After removal of english stopwords."
   ]
  },
  {
   "cell_type": "code",
   "execution_count": null,
   "id": "e7606c65-810a-416b-a5a1-38fd92021ac1",
   "metadata": {},
   "outputs": [],
   "source": []
  }
 ],
 "metadata": {
  "kernelspec": {
   "display_name": "Python 3 (ipykernel)",
   "language": "python",
   "name": "python3"
  },
  "language_info": {
   "codemirror_mode": {
    "name": "ipython",
    "version": 3
   },
   "file_extension": ".py",
   "mimetype": "text/x-python",
   "name": "python",
   "nbconvert_exporter": "python",
   "pygments_lexer": "ipython3",
   "version": "3.11.6"
  }
 },
 "nbformat": 4,
 "nbformat_minor": 5
}
